{
  "nbformat": 4,
  "nbformat_minor": 0,
  "metadata": {
    "colab": {
      "provenance": [],
      "authorship_tag": "ABX9TyMrkBt4/bJYScg8+wksOMkv",
      "include_colab_link": true
    },
    "kernelspec": {
      "name": "python3",
      "display_name": "Python 3"
    },
    "language_info": {
      "name": "python"
    }
  },
  "cells": [
    {
      "cell_type": "markdown",
      "metadata": {
        "id": "view-in-github",
        "colab_type": "text"
      },
      "source": [
        "<a href=\"https://colab.research.google.com/github/johnathonpak/Laptronics-Analysis/blob/main/code/Laptronics_Notebook.ipynb\" target=\"_parent\"><img src=\"https://colab.research.google.com/assets/colab-badge.svg\" alt=\"Open In Colab\"/></a>"
      ]
    },
    {
      "cell_type": "markdown",
      "source": [
        "# **Initialize and Load Dataframes**"
      ],
      "metadata": {
        "id": "CW4x7-2svNjh"
      }
    },
    {
      "cell_type": "code",
      "execution_count": 3,
      "metadata": {
        "colab": {
          "base_uri": "https://localhost:8080/"
        },
        "id": "A_g_laaOp-pM",
        "outputId": "073fb0fa-f91a-4975-ef22-b1d74d0c97a1"
      },
      "outputs": [
        {
          "output_type": "stream",
          "name": "stdout",
          "text": [
            "Client created using project: data-analysis-projects-456521\n"
          ]
        }
      ],
      "source": [
        "import pandas as pd\n",
        "from google.cloud import bigquery\n",
        "from google.colab import auth\n",
        "\n",
        "\n",
        "project_id = 'data-analysis-projects-456521'\n",
        "dataset_id = 'data-analysis-projects-456521.laptronics_data'\n",
        "table_id = [\n",
        "    'data-analysis-projects-456521.laptronics_data.orders_raw',\n",
        "    'data-analysis-projects-456521.laptronics_data.order_status',\n",
        "    'data-analysis-projects-456521.laptronics_data.geo_lookup',\n",
        "    'data-analysis-projects-456521.laptronics_data.customers'\n",
        "]\n",
        "\n",
        "\n",
        "client = bigquery.Client(project=project_id)\n",
        "print(f\"Client created using project: {client.project}\")"
      ]
    },
    {
      "cell_type": "code",
      "source": [
        "# Authenticate Google Colab Enviro User\n",
        "auth.authenticate_user()\n",
        "\n",
        "print(\"Authenticated\")"
      ],
      "metadata": {
        "colab": {
          "base_uri": "https://localhost:8080/"
        },
        "id": "YjbLKWncsIAa",
        "outputId": "94743779-d1b9-493b-fd86-8ef18bdcdfe3"
      },
      "execution_count": 4,
      "outputs": [
        {
          "output_type": "stream",
          "name": "stdout",
          "text": [
            "Authenticated\n"
          ]
        }
      ]
    },
    {
      "cell_type": "code",
      "source": [
        "# Pull data into Dataframes\n",
        "\n",
        "dfs = {}\n",
        "\n",
        "for table_id in table_id:\n",
        "    query = f'SELECT * FROM `{table_id}`'\n",
        "    query_job = client.query(query)\n",
        "    table_name = table_id.split('.')[-1]\n",
        "    dfs[table_name] = query_job.to_dataframe()\n",
        "\n",
        "\n",
        "df_orders_raw = dfs['orders_raw']\n",
        "df_order_status = dfs['order_status']\n",
        "df_geo_lookup = dfs['geo_lookup']\n",
        "df_customers = dfs['customers']\n",
        "\n",
        "print(df_orders_raw.head())\n",
        "print(df_order_status.head())\n",
        "print(df_geo_lookup.head())\n",
        "print(df_customers.head())\n",
        "\n"
      ],
      "metadata": {
        "colab": {
          "base_uri": "https://localhost:8080/"
        },
        "collapsed": true,
        "id": "XFXIJ9YSqPEI",
        "outputId": "2d3355b6-b058-4771-ca4b-f261f5a0e553"
      },
      "execution_count": 5,
      "outputs": [
        {
          "output_type": "stream",
          "name": "stdout",
          "text": [
            "    USER_ID     ORDER_ID PURCHASE_TS     SHIP_TS DELIVERY_TS REFUND_TS  \\\n",
            "0  c79310ae  68af2a1a9a2  11/14/2019  2019-11-16  2019-11-22       NaT   \n",
            "1  fbebbfa6  2ad1c435942   2/23/2020  2020-02-24  2020-02-29       NaT   \n",
            "2  337a5c9b  6fe8f2a20a5   1/30/2021  2021-02-02  2021-02-05       NaT   \n",
            "3  90411b85  e8f07f649f5    7/6/2020  2020-07-07  2020-07-13       NaT   \n",
            "4  adb0306e  eba06166e04   6/17/2021  2021-06-20  2021-06-27       NaT   \n",
            "\n",
            "               PRODUCT_NAME PRODUCT_ID  USD_PRICE  LOCAL_PRICE CURRENCY  \\\n",
            "0  Apple Airpods Headphones       03ca     108.58         99.9      EUR   \n",
            "1  Apple Airpods Headphones       03ca     119.90        119.9      USD   \n",
            "2  Apple Airpods Headphones       03ca     119.90        119.9      USD   \n",
            "3  Apple Airpods Headphones       03ca     119.90        119.9      USD   \n",
            "4  Apple Airpods Headphones       03ca     119.90        119.9      USD   \n",
            "\n",
            "  PURCHASE_PLATFORM MARKETING_CHANNEL ACCOUNT_CREATION_METHOD COUNTRY_CODE  \\\n",
            "0           website            direct                 desktop           DE   \n",
            "1           website         affiliate                 unknown           CA   \n",
            "2           website            direct                 desktop           US   \n",
            "3           website            direct                 desktop           IT   \n",
            "4           website         affiliate                 unknown           US   \n",
            "\n",
            "   LOYALTY_PROGRAM  CREATED_ON  \n",
            "0                0  2015-07-29  \n",
            "1                0  2008-08-19  \n",
            "2                0  2012-10-09  \n",
            "3                0  2011-02-28  \n",
            "4                0  2011-02-02  \n",
            "            id purchase_ts     ship_ts delivery_ts   refund_ts\n",
            "0  cc913441646  2019-01-05  2019-01-07  2019-01-17  2019-01-23\n",
            "1  db901ad1704  2019-01-07  2019-01-11  2019-01-23  2019-01-27\n",
            "2  84daf980098  2019-01-07  2019-01-13  2019-01-26  2019-02-01\n",
            "3  05313b979ef  2019-01-13  2019-01-14  2019-01-28  2019-01-30\n",
            "4  0e77d9967be  2019-01-12  2019-01-15  2019-01-25  2019-01-30\n",
            "  string_field_0 string_field_1\n",
            "0             A1           None\n",
            "1             EU           None\n",
            "2             AM           APAC\n",
            "3             AS           APAC\n",
            "4             AU           APAC\n",
            "         id marketing_channel account_creation_method country_code  \\\n",
            "0  13cb0ab5             email                  mobile         None   \n",
            "1  aee6a4a1             email                  mobile         None   \n",
            "2  67c140d4            direct                 desktop         None   \n",
            "3  78009722            direct                 desktop         None   \n",
            "4  b606cb3d         affiliate                 unknown         None   \n",
            "\n",
            "   loyalty_program  created_on  \n",
            "0                0  2022-08-19  \n",
            "1                0  2022-04-11  \n",
            "2                0  2021-06-20  \n",
            "3                0  2021-10-12  \n",
            "4                0  2022-07-29  \n"
          ]
        }
      ]
    },
    {
      "cell_type": "markdown",
      "source": [
        "# **Data Cleaning**"
      ],
      "metadata": {
        "id": "_j6hTAmbvGjm"
      }
    },
    {
      "cell_type": "code",
      "source": [
        "# Duplicates Count on all tables\n",
        "orders_duplicate = df_orders_raw.duplicated().sum()\n",
        "print(f\"Total number of duplicate rows for Orders: {orders_duplicate} \\n\")\n",
        "\n",
        "order_status_duplicate = df_order_status.duplicated().sum()\n",
        "print(f\"Total number of duplicate rows for Order Status: {order_status_duplicate} \\n\")\n",
        "\n",
        "geo_lookup_duplicate = df_geo_lookup.duplicated().sum()\n",
        "print(f\"Total number of duplicate rows for Geo Lookup: {geo_lookup_duplicate} \\n\")\n",
        "\n",
        "customers_duplicate = df_customers.duplicated().sum()\n",
        "print(f\"Total number of duplicate rows for Customers: {customers_duplicate} \\n\")\n",
        "\n",
        "\n"
      ],
      "metadata": {
        "colab": {
          "base_uri": "https://localhost:8080/"
        },
        "id": "Kkljq6VPvE4u",
        "outputId": "67c09edd-1bca-4d06-9337-6e740ece5b24"
      },
      "execution_count": 14,
      "outputs": [
        {
          "output_type": "stream",
          "name": "stdout",
          "text": [
            "Total number of duplicate rows for Orders: 15196 \n",
            "\n",
            "Total number of duplicate rows for Order Status: 0 \n",
            "\n",
            "Total number of duplicate rows for Geo Lookup: 0 \n",
            "\n",
            "Total number of duplicate rows for Customers: 0 \n",
            "\n"
          ]
        }
      ]
    },
    {
      "cell_type": "code",
      "source": [
        "# Verify Duplicate Orders Raw Data\n",
        "\n",
        "df_orders_duplicates = df_orders_raw[df_orders_raw.duplicated(keep=False)]\n",
        "print(df_orders_duplicates.head(10))\n",
        "print(\"\\n\")"
      ],
      "metadata": {
        "colab": {
          "base_uri": "https://localhost:8080/"
        },
        "collapsed": true,
        "id": "jhIELWo-13Ov",
        "outputId": "0ee0d101-af43-48da-9fff-eff524d9e85d"
      },
      "execution_count": 8,
      "outputs": [
        {
          "output_type": "stream",
          "name": "stdout",
          "text": [
            "     USER_ID     ORDER_ID PURCHASE_TS     SHIP_TS DELIVERY_TS   REFUND_TS  \\\n",
            "10  30e358cc  b498734c2aa  12/27/2022  2022-12-28  2023-01-02         NaT   \n",
            "11  30e358cc  b498734c2aa  12/27/2022  2022-12-28  2023-01-02         NaT   \n",
            "19  f027c46b  29519934985    9/9/2021  2021-09-10  2021-09-18         NaT   \n",
            "20  f027c46b  29519934985    9/9/2021  2021-09-10  2021-09-18         NaT   \n",
            "27  d884c9ce  688e335ac1e    1/2/2019  2019-01-05  2019-01-09  2021-05-15   \n",
            "28  d884c9ce  688e335ac1e    1/2/2019  2019-01-05  2019-01-09  2021-05-15   \n",
            "32  9ea4fdb8  9d0da13842d  12/22/2022  2022-12-23  2022-12-31         NaT   \n",
            "33  9ea4fdb8  9d0da13842d  12/22/2022  2022-12-23  2022-12-31         NaT   \n",
            "38  7908c639  ffeec4c2097   1/20/2021  2021-01-23  2021-01-29         NaT   \n",
            "39  7908c639  ffeec4c2097   1/20/2021  2021-01-23  2021-01-29         NaT   \n",
            "\n",
            "       PRODUCT_NAME PRODUCT_ID  USD_PRICE  LOCAL_PRICE CURRENCY  \\\n",
            "10  ThinkPad Laptop       04ac     136.28      2598.00      TRY   \n",
            "11  ThinkPad Laptop       04ac     136.28      2598.00      TRY   \n",
            "19  ThinkPad Laptop       04ac     301.64      2598.00      TRY   \n",
            "20  ThinkPad Laptop       04ac     301.64      2598.00      TRY   \n",
            "27  ThinkPad Laptop       04ac     388.23      2078.40      TRY   \n",
            "28  ThinkPad Laptop       04ac     388.23      2078.40      TRY   \n",
            "32  ThinkPad Laptop       04ac     552.81      2622.54      PLN   \n",
            "33  ThinkPad Laptop       04ac     552.81      2622.54      PLN   \n",
            "38  ThinkPad Laptop       04ac     599.00       599.00      USD   \n",
            "39  ThinkPad Laptop       04ac     599.00       599.00      USD   \n",
            "\n",
            "   PURCHASE_PLATFORM MARKETING_CHANNEL ACCOUNT_CREATION_METHOD COUNTRY_CODE  \\\n",
            "10           website            direct                 desktop           TR   \n",
            "11           website            direct                 desktop           TR   \n",
            "19           website            direct                 desktop           TR   \n",
            "20           website            direct                 desktop           TR   \n",
            "27           website            direct                 desktop           TR   \n",
            "28           website            direct                 desktop           TR   \n",
            "32           website            direct                 desktop           PL   \n",
            "33           website            direct                 desktop           PL   \n",
            "38           website            direct                 desktop           US   \n",
            "39           website            direct                 desktop           US   \n",
            "\n",
            "    LOYALTY_PROGRAM  CREATED_ON  \n",
            "10                0  2021-10-12  \n",
            "11                0  2021-10-12  \n",
            "19                0  2021-08-27  \n",
            "20                0  2021-08-27  \n",
            "27                0  2019-01-02  \n",
            "28                0  2019-01-02  \n",
            "32                0  2021-08-23  \n",
            "33                0  2021-08-23  \n",
            "38                0  2020-06-10  \n",
            "39                0  2020-06-10  \n",
            "\n",
            "\n"
          ]
        }
      ]
    },
    {
      "cell_type": "markdown",
      "source": [
        "Duplicate data was identified by seeing duplicate `user_id` and `order_id` combo. Therefore, we can perform a drop on the duplicates to ensure clean data."
      ],
      "metadata": {
        "id": "H9ZngVG_4NhU"
      }
    },
    {
      "cell_type": "code",
      "source": [
        "# Drop duplicate rows\n",
        "df_orders_clean = df_orders_raw.drop_duplicates(keep='first')\n",
        "\n",
        "print(f\"Total number of rows for df_orders_clean: {df_orders_clean.shape[0]}\")"
      ],
      "metadata": {
        "colab": {
          "base_uri": "https://localhost:8080/"
        },
        "id": "spUxMb8-4bJY",
        "outputId": "b947b68c-1302-4998-9165-c2aef0346693"
      },
      "execution_count": 9,
      "outputs": [
        {
          "output_type": "stream",
          "name": "stdout",
          "text": [
            "Total number of rows for df_orders_clean: 92931\n"
          ]
        }
      ]
    },
    {
      "cell_type": "code",
      "source": [
        "# Create new table called orders_clean with table removed of duplicates\n",
        "df_orders_clean.to_gbq(destination_table=f'{dataset_id}.orders_clean',\n",
        "                       project_id='data-analysis-projects-456521',\n",
        "                       if_exists='replace')"
      ],
      "metadata": {
        "colab": {
          "base_uri": "https://localhost:8080/"
        },
        "id": "R-qem0QgyTtJ",
        "outputId": "20fec248-f039-473a-c744-0a5e794ebfc0"
      },
      "execution_count": 12,
      "outputs": [
        {
          "output_type": "stream",
          "name": "stderr",
          "text": [
            "<ipython-input-12-c9f7c234b3f8>:2: FutureWarning: to_gbq is deprecated and will be removed in a future version. Please use pandas_gbq.to_gbq instead: https://pandas-gbq.readthedocs.io/en/latest/api.html#pandas_gbq.to_gbq\n",
            "  df_orders_clean.to_gbq(destination_table=f'{dataset_id}.orders_clean',\n",
            "100%|██████████| 1/1 [00:00<00:00, 2299.51it/s]\n"
          ]
        }
      ]
    },
    {
      "cell_type": "code",
      "source": [
        "# Missing Data Checks\n",
        "print(f\"Total number of rows for Orders Clean: {df_orders_clean.shape[0]}\")\n",
        "orders_missing_data = df_orders_clean.isnull().sum()\n",
        "print(\"Missing Orders Data: \")\n",
        "print(orders_missing_data)\n",
        "print(\"\\n\")\n",
        "\n",
        "print(f\"Total number of rows for Order Status: {df_order_status.shape[0]}\")\n",
        "order_status_missing_data = df_order_status.isnull().sum()\n",
        "print(\"Missing Order Status Data: \")\n",
        "print(order_status_missing_data)\n",
        "print(\"\\n\")\n",
        "\n",
        "print(f\"Total number of rows for Geo Lookup: {df_geo_lookup.shape[0]}\")\n",
        "geo_lookup_missing_data = df_geo_lookup.isnull().sum()\n",
        "print(\"Missing Geo Lookup Data: \")\n",
        "print(geo_lookup_missing_data)\n",
        "print(\"\\n\")\n",
        "\n",
        "print(f\"Total number of rows for Customers: {df_customers.shape[0]}\")\n",
        "customers_missing_data = df_customers.isnull().sum()\n",
        "print(\"Missing Customers Data: \")\n",
        "print(customers_missing_data)\n",
        "print(\"\\n\")"
      ],
      "metadata": {
        "colab": {
          "base_uri": "https://localhost:8080/"
        },
        "id": "PGVhCs555d9X",
        "outputId": "f5748728-63a4-4a92-b11c-519a121a949b"
      },
      "execution_count": 58,
      "outputs": [
        {
          "output_type": "stream",
          "name": "stdout",
          "text": [
            "Total number of rows for Orders Clean: 92931\n",
            "Missing Orders Data: \n",
            "USER_ID                        0\n",
            "ORDER_ID                       0\n",
            "PURCHASE_TS                    2\n",
            "SHIP_TS                        0\n",
            "DELIVERY_TS                    0\n",
            "REFUND_TS                  88231\n",
            "PRODUCT_NAME                   0\n",
            "PRODUCT_ID                     0\n",
            "USD_PRICE                     28\n",
            "LOCAL_PRICE                    0\n",
            "CURRENCY                      51\n",
            "PURCHASE_PLATFORM              0\n",
            "MARKETING_CHANNEL           1186\n",
            "ACCOUNT_CREATION_METHOD     1186\n",
            "COUNTRY_CODE                 116\n",
            "LOYALTY_PROGRAM                0\n",
            "CREATED_ON                     0\n",
            "dtype: int64\n",
            "\n",
            "\n",
            "Total number of rows for Order Status: 1367\n",
            "Missing Order Status Data: \n",
            "id             0\n",
            "purchase_ts    0\n",
            "ship_ts        0\n",
            "delivery_ts    0\n",
            "refund_ts      0\n",
            "dtype: int64\n",
            "\n",
            "\n",
            "Total number of rows for Geo Lookup: 189\n",
            "Missing Geo Lookup Data: \n",
            "string_field_0    0\n",
            "string_field_1    2\n",
            "dtype: int64\n",
            "\n",
            "\n",
            "Total number of rows for Customers: 74904\n",
            "Missing Customers Data: \n",
            "id                           0\n",
            "marketing_channel          972\n",
            "account_creation_method    972\n",
            "country_code                93\n",
            "loyalty_program              0\n",
            "created_on                   0\n",
            "dtype: int64\n",
            "\n",
            "\n"
          ]
        }
      ]
    },
    {
      "cell_type": "markdown",
      "source": [
        "### Key Notes:\n",
        "*   Table `geo_lookup` has incorrect/ missing field names\n",
        "*   Missing data in field `REFUND_TS` on cleaned version of `orders_clean` is normal\n",
        "*   Missing `COUNTRY_CODE` from `orders_clean` table can be possibly filled using other tables\n",
        "*   Missing `MARKETING_CHANNEL` and `ACCOUNT_CREATION_METHOD` from `orders_clean` table can be possibly filled using other tables. This also applies vice versa\n",
        "\n"
      ],
      "metadata": {
        "id": "sboHAuov-4X2"
      }
    }
  ]
}